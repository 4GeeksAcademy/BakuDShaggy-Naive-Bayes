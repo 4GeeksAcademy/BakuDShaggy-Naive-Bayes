{
    "cells": [
        {
            "cell_type": "markdown",
            "metadata": {},
            "source": [
                "# Explore here"
            ]
        },
        {
            "cell_type": "markdown",
            "metadata": {},
            "source": [
                "Step 1: Load and Explore Data\n"
            ]
        },
        {
            "cell_type": "code",
            "execution_count": 5,
            "metadata": {},
            "outputs": [
                {
                    "data": {
                        "text/html": [
                            "<div>\n",
                            "<style scoped>\n",
                            "    .dataframe tbody tr th:only-of-type {\n",
                            "        vertical-align: middle;\n",
                            "    }\n",
                            "\n",
                            "    .dataframe tbody tr th {\n",
                            "        vertical-align: top;\n",
                            "    }\n",
                            "\n",
                            "    .dataframe thead th {\n",
                            "        text-align: right;\n",
                            "    }\n",
                            "</style>\n",
                            "<table border=\"1\" class=\"dataframe\">\n",
                            "  <thead>\n",
                            "    <tr style=\"text-align: right;\">\n",
                            "      <th></th>\n",
                            "      <th>package_name</th>\n",
                            "      <th>review</th>\n",
                            "      <th>polarity</th>\n",
                            "    </tr>\n",
                            "  </thead>\n",
                            "  <tbody>\n",
                            "    <tr>\n",
                            "      <th>0</th>\n",
                            "      <td>com.facebook.katana</td>\n",
                            "      <td>privacy at least put some option appear offli...</td>\n",
                            "      <td>0</td>\n",
                            "    </tr>\n",
                            "    <tr>\n",
                            "      <th>1</th>\n",
                            "      <td>com.facebook.katana</td>\n",
                            "      <td>messenger issues ever since the last update, ...</td>\n",
                            "      <td>0</td>\n",
                            "    </tr>\n",
                            "    <tr>\n",
                            "      <th>2</th>\n",
                            "      <td>com.facebook.katana</td>\n",
                            "      <td>profile any time my wife or anybody has more ...</td>\n",
                            "      <td>0</td>\n",
                            "    </tr>\n",
                            "    <tr>\n",
                            "      <th>3</th>\n",
                            "      <td>com.facebook.katana</td>\n",
                            "      <td>the new features suck for those of us who don...</td>\n",
                            "      <td>0</td>\n",
                            "    </tr>\n",
                            "    <tr>\n",
                            "      <th>4</th>\n",
                            "      <td>com.facebook.katana</td>\n",
                            "      <td>forced reload on uploading pic on replying co...</td>\n",
                            "      <td>0</td>\n",
                            "    </tr>\n",
                            "  </tbody>\n",
                            "</table>\n",
                            "</div>"
                        ],
                        "text/plain": [
                            "          package_name                                             review  \\\n",
                            "0  com.facebook.katana   privacy at least put some option appear offli...   \n",
                            "1  com.facebook.katana   messenger issues ever since the last update, ...   \n",
                            "2  com.facebook.katana   profile any time my wife or anybody has more ...   \n",
                            "3  com.facebook.katana   the new features suck for those of us who don...   \n",
                            "4  com.facebook.katana   forced reload on uploading pic on replying co...   \n",
                            "\n",
                            "   polarity  \n",
                            "0         0  \n",
                            "1         0  \n",
                            "2         0  \n",
                            "3         0  \n",
                            "4         0  "
                        ]
                    },
                    "execution_count": 5,
                    "metadata": {},
                    "output_type": "execute_result"
                }
            ],
            "source": [
                "# Your code here\n",
                "import pandas as pd\n",
                "import pickle\n",
                "from sklearn.model_selection import train_test_split\n",
                "from sklearn.feature_extraction.text import CountVectorizer\n",
                "from sklearn.naive_bayes import MultinomialNB, BernoulliNB, GaussianNB\n",
                "from sklearn.metrics import accuracy_score\n",
                "from sklearn.ensemble import RandomForestClassifier\n",
                "\n",
                "\n",
                "# Load data\n",
                "url = \"https://raw.githubusercontent.com/4GeeksAcademy/naive-bayes-project-tutorial/main/playstore_reviews.csv\"\n",
                "df = pd.read_csv(url)\n",
                "\n",
                "# Show first 5 rows\n",
                "df.head()"
            ]
        },
        {
            "cell_type": "markdown",
            "metadata": {},
            "source": [
                "Step 2: Preprocess Text Data"
            ]
        },
        {
            "cell_type": "code",
            "execution_count": 6,
            "metadata": {},
            "outputs": [],
            "source": [
                "# Remove irrelevant column\n",
                "df = df.drop(columns=['package_name'])\n",
                "\n",
                "# Clean text: lowercase + remove extra spaces\n",
                "df['review'] = df['review'].str.strip().str.lower()\n",
                "\n",
                "# Split data\n",
                "X = df['review']\n",
                "y = df['polarity']\n",
                "X_train, X_test, y_train, y_test = train_test_split(X, y, test_size=0.2, random_state=42)"
            ]
        },
        {
            "cell_type": "markdown",
            "metadata": {},
            "source": [
                "Step 3: Convert Text to Numbers"
            ]
        },
        {
            "cell_type": "code",
            "execution_count": 7,
            "metadata": {},
            "outputs": [],
            "source": [
                "# Create word-count matrix (ignore English stopwords like \"the\", \"and\")\n",
                "vectorizer = CountVectorizer(stop_words='english')\n",
                "X_train_vec = vectorizer.fit_transform(X_train).toarray()\n",
                "X_test_vec = vectorizer.transform(X_test).toarray()"
            ]
        },
        {
            "cell_type": "markdown",
            "metadata": {},
            "source": [
                "Step 4: Build & Compare Naive Bayes Models"
            ]
        },
        {
            "cell_type": "code",
            "execution_count": 8,
            "metadata": {},
            "outputs": [
                {
                    "data": {
                        "text/html": [
                            "<div>\n",
                            "<style scoped>\n",
                            "    .dataframe tbody tr th:only-of-type {\n",
                            "        vertical-align: middle;\n",
                            "    }\n",
                            "\n",
                            "    .dataframe tbody tr th {\n",
                            "        vertical-align: top;\n",
                            "    }\n",
                            "\n",
                            "    .dataframe thead th {\n",
                            "        text-align: right;\n",
                            "    }\n",
                            "</style>\n",
                            "<table border=\"1\" class=\"dataframe\">\n",
                            "  <thead>\n",
                            "    <tr style=\"text-align: right;\">\n",
                            "      <th></th>\n",
                            "      <th>Accuracy</th>\n",
                            "    </tr>\n",
                            "  </thead>\n",
                            "  <tbody>\n",
                            "    <tr>\n",
                            "      <th>MultinomialNB</th>\n",
                            "      <td>0.815642</td>\n",
                            "    </tr>\n",
                            "    <tr>\n",
                            "      <th>BernoulliNB</th>\n",
                            "      <td>0.770950</td>\n",
                            "    </tr>\n",
                            "    <tr>\n",
                            "      <th>GaussianNB</th>\n",
                            "      <td>0.804469</td>\n",
                            "    </tr>\n",
                            "  </tbody>\n",
                            "</table>\n",
                            "</div>"
                        ],
                        "text/plain": [
                            "               Accuracy\n",
                            "MultinomialNB  0.815642\n",
                            "BernoulliNB    0.770950\n",
                            "GaussianNB     0.804469"
                        ]
                    },
                    "execution_count": 8,
                    "metadata": {},
                    "output_type": "execute_result"
                }
            ],
            "source": [
                "# Initialize models\n",
                "models = {\n",
                "    \"MultinomialNB\": MultinomialNB(),\n",
                "    \"BernoulliNB\": BernoulliNB(),\n",
                "    \"GaussianNB\": GaussianNB()\n",
                "}\n",
                "\n",
                "# Train and evaluate\n",
                "results = {}\n",
                "for name, model in models.items():\n",
                "    model.fit(X_train_vec, y_train)\n",
                "    y_pred = model.predict(X_test_vec)\n",
                "    accuracy = accuracy_score(y_test, y_pred)\n",
                "    results[name] = accuracy\n",
                "\n",
                "# Show results\n",
                "pd.DataFrame.from_dict(results, orient='index', columns=['Accuracy'])"
            ]
        },
        {
            "cell_type": "markdown",
            "metadata": {},
            "source": [
                "Step 5: Optimize the Best Model\n"
            ]
        },
        {
            "cell_type": "code",
            "execution_count": 9,
            "metadata": {},
            "outputs": [
                {
                    "name": "stdout",
                    "output_type": "stream",
                    "text": [
                        "Alpha 0.1: Accuracy = 0.8324\n",
                        "Alpha 0.5: Accuracy = 0.8268\n",
                        "Alpha 1.0: Accuracy = 0.8156\n",
                        "Alpha 2.0: Accuracy = 0.8324\n"
                    ]
                }
            ],
            "source": [
                "# Tune MultinomialNB (best performer)\n",
                "alphas = [0.1, 0.5, 1.0, 2.0]  # Smoothing parameters\n",
                "\n",
                "for alpha in alphas:\n",
                "    model = MultinomialNB(alpha=alpha)\n",
                "    model.fit(X_train_vec, y_train)\n",
                "    acc = model.score(X_test_vec, y_test)\n",
                "    print(f\"Alpha {alpha}: Accuracy = {acc:.4f}\")"
            ]
        },
        {
            "cell_type": "markdown",
            "metadata": {},
            "source": [
                "Step 6: Compare with Random Forest\n"
            ]
        },
        {
            "cell_type": "code",
            "execution_count": 10,
            "metadata": {},
            "outputs": [
                {
                    "name": "stdout",
                    "output_type": "stream",
                    "text": [
                        "Random Forest Accuracy: 0.8045\n",
                        "Best NB Accuracy: 0.8156\n"
                    ]
                }
            ],
            "source": [
                "# Train Random Forest\n",
                "rf = RandomForestClassifier(n_estimators=100)\n",
                "rf.fit(X_train_vec, y_train)\n",
                "rf_acc = rf.score(X_test_vec, y_test)\n",
                "\n",
                "print(f\"Random Forest Accuracy: {rf_acc:.4f}\")\n",
                "print(f\"Best NB Accuracy: {max(results.values()):.4f}\")"
            ]
        },
        {
            "cell_type": "markdown",
            "metadata": {},
            "source": [
                "Step 7: Save the Model\n"
            ]
        },
        {
            "cell_type": "code",
            "execution_count": null,
            "metadata": {},
            "outputs": [],
            "source": [
                "# Save best model\n",
                "best_model = MultinomialNB(alpha=0.5)\n",
                "best_model.fit(X_train_vec, y_train)\n",
                "pickle.dump(best_model, open('naive_bayes_model.pkl', 'wb'))\n",
                "\n",
                "# Save vectorizer too (for new text preprocessing)\n",
                "pickle.dump(vectorizer, open('vectorizer.pkl', 'wb'))\n"
            ]
        }
    ],
    "metadata": {
        "kernelspec": {
            "display_name": "Python 3",
            "language": "python",
            "name": "python3"
        },
        "language_info": {
            "codemirror_mode": {
                "name": "ipython",
                "version": 3
            },
            "file_extension": ".py",
            "mimetype": "text/x-python",
            "name": "python",
            "nbconvert_exporter": "python",
            "pygments_lexer": "ipython3",
            "version": "3.11.4"
        },
        "orig_nbformat": 4
    },
    "nbformat": 4,
    "nbformat_minor": 2
}
